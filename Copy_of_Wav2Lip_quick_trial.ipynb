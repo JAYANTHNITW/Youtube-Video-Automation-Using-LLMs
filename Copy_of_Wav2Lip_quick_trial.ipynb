{
  "cells": [
    {
      "cell_type": "markdown",
      "metadata": {
        "id": "view-in-github",
        "colab_type": "text"
      },
      "source": [
        "<a href=\"https://colab.research.google.com/github/JAYANTHNITW/Youtube-Video-Automation-Using-LLMs/blob/main/Copy_of_Wav2Lip_quick_trial.ipynb\" target=\"_parent\"><img src=\"https://colab.research.google.com/assets/colab-badge.svg\" alt=\"Open In Colab\"/></a>"
      ]
    },
    {
      "cell_type": "markdown",
      "metadata": {
        "id": "vSQFs_G8caeE"
      },
      "source": [
        "# Collab preliminaries"
      ]
    },
    {
      "cell_type": "code",
      "execution_count": null,
      "metadata": {
        "colab": {
          "base_uri": "https://localhost:8080/"
        },
        "id": "XIVB0Xn1g6ih",
        "outputId": "ee6deb6f-93e1-41ca-f950-f062fa39a9c1"
      },
      "outputs": [
        {
          "output_type": "stream",
          "name": "stdout",
          "text": [
            "nvcc: NVIDIA (R) Cuda compiler driver\n",
            "Copyright (c) 2005-2022 NVIDIA Corporation\n",
            "Built on Wed_Sep_21_10:33:58_PDT_2022\n",
            "Cuda compilation tools, release 11.8, V11.8.89\n",
            "Build cuda_11.8.r11.8/compiler.31833905_0\n"
          ]
        }
      ],
      "source": [
        "!nvcc --version"
      ]
    },
    {
      "cell_type": "code",
      "execution_count": null,
      "metadata": {
        "colab": {
          "base_uri": "https://localhost:8080/"
        },
        "id": "qciH4PsUazL_",
        "outputId": "10dc7d2a-0430-4e4f-e608-0c76879ec5fc"
      },
      "outputs": [
        {
          "output_type": "stream",
          "name": "stdout",
          "text": [
            "Mounted at /content/gdrive\n"
          ]
        }
      ],
      "source": [
        "from google.colab import drive\n",
        "drive.mount('/content/gdrive')"
      ]
    },
    {
      "cell_type": "markdown",
      "metadata": {
        "id": "yJ5taGmPcWV-"
      },
      "source": [
        "# Get the code and models"
      ]
    },
    {
      "cell_type": "code",
      "execution_count": null,
      "metadata": {
        "colab": {
          "base_uri": "https://localhost:8080/"
        },
        "id": "P3LihClHbUd3",
        "outputId": "f912ae52-bb2d-47ea-a209-08d510299cce"
      },
      "outputs": [
        {
          "output_type": "stream",
          "name": "stdout",
          "text": [
            "Cloning into 'Wav2Lip'...\n",
            "remote: Enumerating objects: 363, done.\u001b[K\n",
            "remote: Counting objects: 100% (3/3), done.\u001b[K\n",
            "remote: Compressing objects: 100% (3/3), done.\u001b[K\n",
            "remote: Total 363 (delta 0), reused 1 (delta 0), pack-reused 360\u001b[K\n",
            "Receiving objects: 100% (363/363), 528.20 KiB | 4.89 MiB/s, done.\n",
            "Resolving deltas: 100% (198/198), done.\n"
          ]
        }
      ],
      "source": [
        "!git clone https://github.com/Rudrabha/Wav2Lip.git"
      ]
    },
    {
      "cell_type": "code",
      "execution_count": null,
      "metadata": {
        "colab": {
          "base_uri": "https://localhost:8080/"
        },
        "id": "y-19nzx8SamJ",
        "outputId": "49e41133-5aea-457d-ebe9-283491830685"
      },
      "outputs": [
        {
          "output_type": "stream",
          "name": "stdout",
          "text": [
            "test1.mp3  test1.mp4  test1.wav  test2.mp4  test2.wav  test.mp4  test.wav\n"
          ]
        }
      ],
      "source": [
        "!ls /content/gdrive/MyDrive/Wav2Lip"
      ]
    },
    {
      "cell_type": "code",
      "execution_count": null,
      "metadata": {
        "id": "YjzMPy_Sb0AI"
      },
      "outputs": [],
      "source": [
        "!cp -ri \"/content/gdrive/MyDrive/wav2lip/wav2lip_gan.pth\" /content/Wav2Lip/checkpoints/"
      ]
    },
    {
      "cell_type": "code",
      "execution_count": null,
      "metadata": {
        "id": "rbQJdhritr4I"
      },
      "outputs": [],
      "source": [
        "!cp -ri \"/content/gdrive/MyDrive/wav2lip/wav2lip.pth\" /content/Wav2Lip/checkpoints/"
      ]
    },
    {
      "cell_type": "markdown",
      "metadata": {
        "id": "aWTaOS3ncFt6"
      },
      "source": [
        "# Get the pre-requisites"
      ]
    },
    {
      "cell_type": "code",
      "execution_count": null,
      "metadata": {
        "colab": {
          "base_uri": "https://localhost:8080/"
        },
        "id": "Ooh28vw-Uvd3",
        "outputId": "479d10c2-5aa8-480d-e34e-d301b62ffeec"
      },
      "outputs": [
        {
          "output_type": "stream",
          "name": "stdout",
          "text": [
            "Found existing installation: tensorflow 2.12.0\n",
            "Uninstalling tensorflow-2.12.0:\n",
            "  Would remove:\n",
            "    /usr/local/bin/estimator_ckpt_converter\n",
            "    /usr/local/bin/import_pb_to_tensorboard\n",
            "    /usr/local/bin/saved_model_cli\n",
            "    /usr/local/bin/tensorboard\n",
            "    /usr/local/bin/tf_upgrade_v2\n",
            "    /usr/local/bin/tflite_convert\n",
            "    /usr/local/bin/toco\n",
            "    /usr/local/bin/toco_from_protos\n",
            "    /usr/local/lib/python3.10/dist-packages/tensorflow-2.12.0.dist-info/*\n",
            "    /usr/local/lib/python3.10/dist-packages/tensorflow/*\n",
            "Proceed (Y/n)? Y\n",
            "Y\n",
            "  Successfully uninstalled tensorflow-2.12.0\n",
            "\u001b[33mWARNING: Skipping tensorflow-gpu as it is not installed.\u001b[0m\u001b[33m\n",
            "\u001b[0m"
          ]
        }
      ],
      "source": [
        "!pip uninstall tensorflow tensorflow-gpu"
      ]
    },
    {
      "cell_type": "code",
      "execution_count": null,
      "metadata": {
        "colab": {
          "base_uri": "https://localhost:8080/"
        },
        "id": "49dCYlLdcK2D",
        "outputId": "4f03562f-c618-4960-8ee9-e4ec6e8229a1"
      },
      "outputs": [
        {
          "output_type": "stream",
          "name": "stdout",
          "text": [
            "Collecting librosa==0.8.1 (from -r requirements.txt (line 1))\n",
            "  Downloading librosa-0.8.1-py3-none-any.whl (203 kB)\n",
            "\u001b[2K     \u001b[90m━━━━━━━━━━━━━━━━━━━━━━━━━━━━━━━━━━━━━━━\u001b[0m \u001b[32m203.8/203.8 kB\u001b[0m \u001b[31m4.0 MB/s\u001b[0m eta \u001b[36m0:00:00\u001b[0m\n",
            "\u001b[?25hCollecting numpy==1.21.2 (from -r requirements.txt (line 2))\n",
            "  Downloading numpy-1.21.2-cp310-cp310-manylinux_2_17_x86_64.manylinux2014_x86_64.whl (15.9 MB)\n",
            "\u001b[2K     \u001b[90m━━━━━━━━━━━━━━━━━━━━━━━━━━━━━━━━━━━━━━━━\u001b[0m \u001b[32m15.9/15.9 MB\u001b[0m \u001b[31m35.2 MB/s\u001b[0m eta \u001b[36m0:00:00\u001b[0m\n",
            "\u001b[?25hRequirement already satisfied: opencv-contrib-python>=4.5.3.56 in /usr/local/lib/python3.10/dist-packages (from -r requirements.txt (line 3)) (4.7.0.72)\n",
            "Requirement already satisfied: opencv-python>=4.5.3.56 in /usr/local/lib/python3.10/dist-packages (from -r requirements.txt (line 4)) (4.7.0.72)\n",
            "Requirement already satisfied: torch>=1.9.0 in /usr/local/lib/python3.10/dist-packages (from -r requirements.txt (line 5)) (2.0.1+cu118)\n",
            "Requirement already satisfied: torchvision>=0.10.0 in /usr/local/lib/python3.10/dist-packages (from -r requirements.txt (line 6)) (0.15.2+cu118)\n",
            "Collecting tqdm==4.62.0 (from -r requirements.txt (line 7))\n",
            "  Downloading tqdm-4.62.0-py2.py3-none-any.whl (76 kB)\n",
            "\u001b[2K     \u001b[90m━━━━━━━━━━━━━━━━━━━━━━━━━━━━━━━━━━━━━━━━\u001b[0m \u001b[32m76.0/76.0 kB\u001b[0m \u001b[31m9.5 MB/s\u001b[0m eta \u001b[36m0:00:00\u001b[0m\n",
            "\u001b[?25hRequirement already satisfied: numba>=0.54.0 in /usr/local/lib/python3.10/dist-packages (from -r requirements.txt (line 8)) (0.56.4)\n",
            "Requirement already satisfied: audioread>=2.0.0 in /usr/local/lib/python3.10/dist-packages (from librosa==0.8.1->-r requirements.txt (line 1)) (3.0.0)\n",
            "Requirement already satisfied: scipy>=1.0.0 in /usr/local/lib/python3.10/dist-packages (from librosa==0.8.1->-r requirements.txt (line 1)) (1.10.1)\n",
            "Requirement already satisfied: scikit-learn!=0.19.0,>=0.14.0 in /usr/local/lib/python3.10/dist-packages (from librosa==0.8.1->-r requirements.txt (line 1)) (1.2.2)\n",
            "Requirement already satisfied: joblib>=0.14 in /usr/local/lib/python3.10/dist-packages (from librosa==0.8.1->-r requirements.txt (line 1)) (1.3.1)\n",
            "Requirement already satisfied: decorator>=3.0.0 in /usr/local/lib/python3.10/dist-packages (from librosa==0.8.1->-r requirements.txt (line 1)) (4.4.2)\n",
            "Collecting resampy>=0.2.2 (from librosa==0.8.1->-r requirements.txt (line 1))\n",
            "  Downloading resampy-0.4.2-py3-none-any.whl (3.1 MB)\n",
            "\u001b[2K     \u001b[90m━━━━━━━━━━━━━━━━━━━━━━━━━━━━━━━━━━━━━━━━\u001b[0m \u001b[32m3.1/3.1 MB\u001b[0m \u001b[31m56.8 MB/s\u001b[0m eta \u001b[36m0:00:00\u001b[0m\n",
            "\u001b[?25hRequirement already satisfied: soundfile>=0.10.2 in /usr/local/lib/python3.10/dist-packages (from librosa==0.8.1->-r requirements.txt (line 1)) (0.12.1)\n",
            "Requirement already satisfied: pooch>=1.0 in /usr/local/lib/python3.10/dist-packages (from librosa==0.8.1->-r requirements.txt (line 1)) (1.6.0)\n",
            "Requirement already satisfied: packaging>=20.0 in /usr/local/lib/python3.10/dist-packages (from librosa==0.8.1->-r requirements.txt (line 1)) (23.1)\n",
            "Requirement already satisfied: filelock in /usr/local/lib/python3.10/dist-packages (from torch>=1.9.0->-r requirements.txt (line 5)) (3.12.2)\n",
            "Requirement already satisfied: typing-extensions in /usr/local/lib/python3.10/dist-packages (from torch>=1.9.0->-r requirements.txt (line 5)) (4.7.1)\n",
            "Requirement already satisfied: sympy in /usr/local/lib/python3.10/dist-packages (from torch>=1.9.0->-r requirements.txt (line 5)) (1.11.1)\n",
            "Requirement already satisfied: networkx in /usr/local/lib/python3.10/dist-packages (from torch>=1.9.0->-r requirements.txt (line 5)) (3.1)\n",
            "Requirement already satisfied: jinja2 in /usr/local/lib/python3.10/dist-packages (from torch>=1.9.0->-r requirements.txt (line 5)) (3.1.2)\n",
            "Requirement already satisfied: triton==2.0.0 in /usr/local/lib/python3.10/dist-packages (from torch>=1.9.0->-r requirements.txt (line 5)) (2.0.0)\n",
            "Requirement already satisfied: cmake in /usr/local/lib/python3.10/dist-packages (from triton==2.0.0->torch>=1.9.0->-r requirements.txt (line 5)) (3.25.2)\n",
            "Requirement already satisfied: lit in /usr/local/lib/python3.10/dist-packages (from triton==2.0.0->torch>=1.9.0->-r requirements.txt (line 5)) (16.0.6)\n",
            "Requirement already satisfied: requests in /usr/local/lib/python3.10/dist-packages (from torchvision>=0.10.0->-r requirements.txt (line 6)) (2.27.1)\n",
            "Requirement already satisfied: pillow!=8.3.*,>=5.3.0 in /usr/local/lib/python3.10/dist-packages (from torchvision>=0.10.0->-r requirements.txt (line 6)) (9.4.0)\n",
            "Requirement already satisfied: llvmlite<0.40,>=0.39.0dev0 in /usr/local/lib/python3.10/dist-packages (from numba>=0.54.0->-r requirements.txt (line 8)) (0.39.1)\n",
            "Requirement already satisfied: setuptools in /usr/local/lib/python3.10/dist-packages (from numba>=0.54.0->-r requirements.txt (line 8)) (67.7.2)\n",
            "Requirement already satisfied: appdirs>=1.3.0 in /usr/local/lib/python3.10/dist-packages (from pooch>=1.0->librosa==0.8.1->-r requirements.txt (line 1)) (1.4.4)\n",
            "Requirement already satisfied: urllib3<1.27,>=1.21.1 in /usr/local/lib/python3.10/dist-packages (from requests->torchvision>=0.10.0->-r requirements.txt (line 6)) (1.26.16)\n",
            "Requirement already satisfied: certifi>=2017.4.17 in /usr/local/lib/python3.10/dist-packages (from requests->torchvision>=0.10.0->-r requirements.txt (line 6)) (2023.7.22)\n",
            "Requirement already satisfied: charset-normalizer~=2.0.0 in /usr/local/lib/python3.10/dist-packages (from requests->torchvision>=0.10.0->-r requirements.txt (line 6)) (2.0.12)\n",
            "Requirement already satisfied: idna<4,>=2.5 in /usr/local/lib/python3.10/dist-packages (from requests->torchvision>=0.10.0->-r requirements.txt (line 6)) (3.4)\n",
            "Requirement already satisfied: threadpoolctl>=2.0.0 in /usr/local/lib/python3.10/dist-packages (from scikit-learn!=0.19.0,>=0.14.0->librosa==0.8.1->-r requirements.txt (line 1)) (3.2.0)\n",
            "Requirement already satisfied: cffi>=1.0 in /usr/local/lib/python3.10/dist-packages (from soundfile>=0.10.2->librosa==0.8.1->-r requirements.txt (line 1)) (1.15.1)\n",
            "Requirement already satisfied: MarkupSafe>=2.0 in /usr/local/lib/python3.10/dist-packages (from jinja2->torch>=1.9.0->-r requirements.txt (line 5)) (2.1.3)\n",
            "Requirement already satisfied: mpmath>=0.19 in /usr/local/lib/python3.10/dist-packages (from sympy->torch>=1.9.0->-r requirements.txt (line 5)) (1.3.0)\n",
            "Requirement already satisfied: pycparser in /usr/local/lib/python3.10/dist-packages (from cffi>=1.0->soundfile>=0.10.2->librosa==0.8.1->-r requirements.txt (line 1)) (2.21)\n",
            "Installing collected packages: tqdm, numpy, resampy, librosa\n",
            "  Attempting uninstall: tqdm\n",
            "    Found existing installation: tqdm 4.65.0\n",
            "    Uninstalling tqdm-4.65.0:\n",
            "      Successfully uninstalled tqdm-4.65.0\n",
            "  Attempting uninstall: numpy\n",
            "    Found existing installation: numpy 1.22.4\n",
            "    Uninstalling numpy-1.22.4:\n",
            "      Successfully uninstalled numpy-1.22.4\n",
            "  Attempting uninstall: librosa\n",
            "    Found existing installation: librosa 0.10.0.post2\n",
            "    Uninstalling librosa-0.10.0.post2:\n",
            "      Successfully uninstalled librosa-0.10.0.post2\n",
            "\u001b[31mERROR: pip's dependency resolver does not currently take into account all the packages that are installed. This behaviour is the source of the following dependency conflicts.\n",
            "dopamine-rl 4.0.6 requires tensorflow>=2.2.0, which is not installed.\u001b[0m\u001b[31m\n",
            "\u001b[0mSuccessfully installed librosa-0.8.1 numpy-1.21.2 resampy-0.4.2 tqdm-4.62.0\n"
          ]
        }
      ],
      "source": [
        "!cd Wav2Lip && pip install -r requirements.txt"
      ]
    },
    {
      "cell_type": "code",
      "execution_count": null,
      "metadata": {
        "colab": {
          "base_uri": "https://localhost:8080/"
        },
        "id": "ey_bN4M6X_95",
        "outputId": "43eea929-3a4c-4f4a-b823-977b5f05757c"
      },
      "outputs": [
        {
          "output_type": "stream",
          "name": "stdout",
          "text": [
            "--2023-08-03 16:46:04--  https://www.adrianbulat.com/downloads/python-fan/s3fd-619a316812.pth\n",
            "Resolving www.adrianbulat.com (www.adrianbulat.com)... 45.136.29.207\n",
            "Connecting to www.adrianbulat.com (www.adrianbulat.com)|45.136.29.207|:443... connected.\n",
            "HTTP request sent, awaiting response... 200 OK\n",
            "Length: 89843225 (86M) [application/octet-stream]\n",
            "Saving to: ‘Wav2Lip/face_detection/detection/sfd/s3fd.pth’\n",
            "\n",
            "Wav2Lip/face_detect 100%[===================>]  85.68M  5.72MB/s    in 11s     \n",
            "\n",
            "2023-08-03 16:46:15 (7.89 MB/s) - ‘Wav2Lip/face_detection/detection/sfd/s3fd.pth’ saved [89843225/89843225]\n",
            "\n"
          ]
        }
      ],
      "source": [
        "!wget \"https://www.adrianbulat.com/downloads/python-fan/s3fd-619a316812.pth\" -O \"Wav2Lip/face_detection/detection/sfd/s3fd.pth\""
      ]
    },
    {
      "cell_type": "markdown",
      "metadata": {
        "id": "qdIQfY2Kswcb"
      },
      "source": [
        "# Now lets try!"
      ]
    },
    {
      "cell_type": "code",
      "execution_count": null,
      "metadata": {
        "colab": {
          "base_uri": "https://localhost:8080/"
        },
        "id": "KoVGMtjRZfeR",
        "outputId": "1dedbd2c-9a1e-4698-fcc5-d386f16317c1"
      },
      "outputs": [
        {
          "output_type": "stream",
          "name": "stdout",
          "text": [
            "anscombe.json\t\t      mnist_test.csv\t     test2.mp4\ttest3.wav\n",
            "california_housing_test.csv   mnist_train_small.csv  test2.wav\ttest.mp4\n",
            "california_housing_train.csv  README.md\t\t     test3.mp4\ttest.wav\n"
          ]
        }
      ],
      "source": [
        "!cp \"/content/gdrive/MyDrive/Wav2Lip/test.mp4\" \"/content/gdrive/MyDrive/Wav2Lip/test.wav\" sample_data/\n",
        "!ls sample_data/"
      ]
    },
    {
      "cell_type": "code",
      "execution_count": null,
      "metadata": {
        "colab": {
          "base_uri": "https://localhost:8080/"
        },
        "id": "jR5utmDMcSZY",
        "outputId": "3b2622ad-6314-4889-e8c8-ca7581c4a981"
      },
      "outputs": [
        {
          "output_type": "stream",
          "name": "stdout",
          "text": [
            "Using cuda for inference.\n",
            "Reading video frames...\n",
            "Number of frames available for inference: 1479\n",
            "(80, 4053)\n",
            "Length of mel chunks: 1516\n",
            "  0% 0/12 [00:00<?, ?it/s]\n",
            "  0% 0/93 [00:00<?, ?it/s]\u001b[A\n",
            "  1% 1/93 [00:10<15:54, 10.38s/it]\u001b[A\n",
            "  2% 2/93 [00:10<06:54,  4.55s/it]\u001b[A\n",
            "  3% 3/93 [00:11<03:57,  2.64s/it]\u001b[A\n",
            "  4% 4/93 [00:11<02:33,  1.73s/it]\u001b[A\n",
            "  5% 5/93 [00:11<01:48,  1.23s/it]\u001b[A\n",
            "  6% 6/93 [00:12<01:20,  1.08it/s]\u001b[A\n",
            "  8% 7/93 [00:12<01:03,  1.36it/s]\u001b[A\n",
            "  9% 8/93 [00:12<00:51,  1.65it/s]\u001b[A\n",
            " 10% 9/93 [00:13<00:44,  1.90it/s]\u001b[A\n",
            " 11% 10/93 [00:13<00:38,  2.15it/s]\u001b[A\n",
            " 12% 11/93 [00:13<00:35,  2.34it/s]\u001b[A\n",
            " 13% 12/93 [00:14<00:32,  2.53it/s]\u001b[A\n",
            " 14% 13/93 [00:14<00:30,  2.66it/s]\u001b[A\n",
            " 15% 14/93 [00:14<00:28,  2.77it/s]\u001b[A\n",
            " 16% 15/93 [00:15<00:27,  2.86it/s]\u001b[A\n",
            " 17% 16/93 [00:15<00:26,  2.94it/s]\u001b[A\n",
            " 18% 17/93 [00:15<00:25,  2.96it/s]\u001b[A\n",
            " 19% 18/93 [00:16<00:25,  2.98it/s]\u001b[A\n",
            " 20% 19/93 [00:16<00:25,  2.95it/s]\u001b[A\n",
            " 22% 20/93 [00:16<00:24,  2.96it/s]\u001b[A\n",
            " 23% 21/93 [00:17<00:24,  3.00it/s]\u001b[A\n",
            " 24% 22/93 [00:17<00:23,  3.02it/s]\u001b[A\n",
            " 25% 23/93 [00:17<00:23,  2.99it/s]\u001b[A\n",
            " 26% 24/93 [00:18<00:22,  3.02it/s]\u001b[A\n",
            " 27% 25/93 [00:18<00:22,  2.97it/s]\u001b[A\n",
            " 28% 26/93 [00:18<00:22,  3.00it/s]\u001b[A\n",
            " 29% 27/93 [00:19<00:21,  3.01it/s]\u001b[A\n",
            " 30% 28/93 [00:19<00:21,  3.00it/s]\u001b[A\n",
            " 31% 29/93 [00:19<00:21,  3.03it/s]\u001b[A\n",
            " 32% 30/93 [00:20<00:20,  3.02it/s]\u001b[A\n",
            " 33% 31/93 [00:20<00:20,  3.00it/s]\u001b[A\n",
            " 34% 32/93 [00:20<00:20,  3.01it/s]\u001b[A\n",
            " 35% 33/93 [00:21<00:21,  2.83it/s]\u001b[A\n",
            " 37% 34/93 [00:21<00:22,  2.65it/s]\u001b[A\n",
            " 38% 35/93 [00:22<00:22,  2.59it/s]\u001b[A\n",
            " 39% 36/93 [00:22<00:22,  2.52it/s]\u001b[A\n",
            " 40% 37/93 [00:22<00:22,  2.50it/s]\u001b[A\n",
            " 41% 38/93 [00:23<00:21,  2.51it/s]\u001b[A\n",
            " 42% 39/93 [00:23<00:22,  2.45it/s]\u001b[A\n",
            " 43% 40/93 [00:24<00:21,  2.46it/s]\u001b[A\n",
            " 44% 41/93 [00:24<00:21,  2.43it/s]\u001b[A\n",
            " 45% 42/93 [00:25<00:21,  2.42it/s]\u001b[A\n",
            " 46% 43/93 [00:25<00:21,  2.38it/s]\u001b[A\n",
            " 47% 44/93 [00:25<00:19,  2.52it/s]\u001b[A\n",
            " 48% 45/93 [00:26<00:18,  2.65it/s]\u001b[A\n",
            " 49% 46/93 [00:26<00:17,  2.74it/s]\u001b[A\n",
            " 51% 47/93 [00:26<00:16,  2.79it/s]\u001b[A\n",
            " 52% 48/93 [00:27<00:15,  2.83it/s]\u001b[A\n",
            " 53% 49/93 [00:27<00:15,  2.88it/s]\u001b[A\n",
            " 54% 50/93 [00:27<00:14,  2.88it/s]\u001b[A\n",
            " 55% 51/93 [00:28<00:14,  2.95it/s]\u001b[A\n",
            " 56% 52/93 [00:28<00:14,  2.91it/s]\u001b[A\n",
            " 57% 53/93 [00:28<00:13,  2.92it/s]\u001b[A\n",
            " 58% 54/93 [00:29<00:13,  2.97it/s]\u001b[A\n",
            " 59% 55/93 [00:29<00:12,  2.99it/s]\u001b[A\n",
            " 60% 56/93 [00:29<00:12,  2.98it/s]\u001b[A\n",
            " 61% 57/93 [00:30<00:11,  3.01it/s]\u001b[A\n",
            " 62% 58/93 [00:30<00:11,  3.01it/s]\u001b[A\n",
            " 63% 59/93 [00:30<00:11,  2.94it/s]\u001b[A\n",
            " 65% 60/93 [00:31<00:11,  2.96it/s]\u001b[A\n",
            " 66% 61/93 [00:31<00:10,  2.93it/s]\u001b[A\n",
            " 67% 62/93 [00:31<00:10,  2.90it/s]\u001b[A\n",
            " 68% 63/93 [00:32<00:10,  2.92it/s]\u001b[A\n",
            " 69% 64/93 [00:32<00:09,  2.90it/s]\u001b[A\n",
            " 70% 65/93 [00:32<00:09,  2.93it/s]\u001b[A\n",
            " 71% 66/93 [00:33<00:09,  2.97it/s]\u001b[A\n",
            " 72% 67/93 [00:33<00:08,  2.97it/s]\u001b[A\n",
            " 73% 68/93 [00:33<00:08,  2.97it/s]\u001b[A\n",
            " 74% 69/93 [00:34<00:08,  2.98it/s]\u001b[A\n",
            " 75% 70/93 [00:34<00:07,  3.01it/s]\u001b[A\n",
            " 76% 71/93 [00:34<00:07,  2.98it/s]\u001b[A\n",
            " 77% 72/93 [00:35<00:07,  2.98it/s]\u001b[A\n",
            " 78% 73/93 [00:35<00:06,  3.01it/s]\u001b[A\n",
            " 80% 74/93 [00:35<00:06,  2.79it/s]\u001b[A\n",
            " 81% 75/93 [00:36<00:06,  2.68it/s]\u001b[A\n",
            " 82% 76/93 [00:36<00:06,  2.61it/s]\u001b[A\n",
            " 83% 77/93 [00:37<00:06,  2.56it/s]\u001b[A\n",
            " 84% 78/93 [00:37<00:05,  2.52it/s]\u001b[A\n",
            " 85% 79/93 [00:38<00:05,  2.48it/s]\u001b[A\n",
            " 86% 80/93 [00:38<00:05,  2.43it/s]\u001b[A\n",
            " 87% 81/93 [00:38<00:04,  2.46it/s]\u001b[A\n",
            " 88% 82/93 [00:39<00:04,  2.43it/s]\u001b[A\n",
            " 89% 83/93 [00:39<00:04,  2.35it/s]\u001b[A\n",
            " 90% 84/93 [00:40<00:03,  2.35it/s]\u001b[A\n",
            " 91% 85/93 [00:40<00:03,  2.50it/s]\u001b[A\n",
            " 92% 86/93 [00:40<00:02,  2.65it/s]\u001b[A\n",
            " 94% 87/93 [00:41<00:02,  2.73it/s]\u001b[A\n",
            " 95% 88/93 [00:41<00:01,  2.81it/s]\u001b[A\n",
            " 96% 89/93 [00:41<00:01,  2.86it/s]\u001b[A\n",
            " 97% 90/93 [00:42<00:01,  2.89it/s]\u001b[A\n",
            " 98% 91/93 [00:42<00:00,  2.95it/s]\u001b[A\n",
            " 99% 92/93 [00:42<00:00,  2.96it/s]\u001b[A\n",
            "100% 93/93 [00:44<00:00,  2.08it/s]\n",
            "Load checkpoint from: checkpoints/wav2lip_gan.pth\n",
            "Model loaded\n",
            "100% 12/12 [01:12<00:00,  6.07s/it]\n",
            "ffmpeg version 4.4.2-0ubuntu0.22.04.1 Copyright (c) 2000-2021 the FFmpeg developers\n",
            "  built with gcc 11 (Ubuntu 11.2.0-19ubuntu1)\n",
            "  configuration: --prefix=/usr --extra-version=0ubuntu0.22.04.1 --toolchain=hardened --libdir=/usr/lib/x86_64-linux-gnu --incdir=/usr/include/x86_64-linux-gnu --arch=amd64 --enable-gpl --disable-stripping --enable-gnutls --enable-ladspa --enable-libaom --enable-libass --enable-libbluray --enable-libbs2b --enable-libcaca --enable-libcdio --enable-libcodec2 --enable-libdav1d --enable-libflite --enable-libfontconfig --enable-libfreetype --enable-libfribidi --enable-libgme --enable-libgsm --enable-libjack --enable-libmp3lame --enable-libmysofa --enable-libopenjpeg --enable-libopenmpt --enable-libopus --enable-libpulse --enable-librabbitmq --enable-librubberband --enable-libshine --enable-libsnappy --enable-libsoxr --enable-libspeex --enable-libsrt --enable-libssh --enable-libtheora --enable-libtwolame --enable-libvidstab --enable-libvorbis --enable-libvpx --enable-libwebp --enable-libx265 --enable-libxml2 --enable-libxvid --enable-libzimg --enable-libzmq --enable-libzvbi --enable-lv2 --enable-omx --enable-openal --enable-opencl --enable-opengl --enable-sdl2 --enable-pocketsphinx --enable-librsvg --enable-libmfx --enable-libdc1394 --enable-libdrm --enable-libiec61883 --enable-chromaprint --enable-frei0r --enable-libx264 --enable-shared\n",
            "  libavutil      56. 70.100 / 56. 70.100\n",
            "  libavcodec     58.134.100 / 58.134.100\n",
            "  libavformat    58. 76.100 / 58. 76.100\n",
            "  libavdevice    58. 13.100 / 58. 13.100\n",
            "  libavfilter     7.110.100 /  7.110.100\n",
            "  libswscale      5.  9.100 /  5.  9.100\n",
            "  libswresample   3.  9.100 /  3.  9.100\n",
            "  libpostproc    55.  9.100 / 55.  9.100\n",
            "\u001b[0;33mGuessed Channel Layout for Input Stream #0.0 : mono\n",
            "\u001b[0mInput #0, wav, from '../sample_data/test.wav':\n",
            "  Metadata:\n",
            "    encoder         : Lavf58.76.100\n",
            "  Duration: 00:00:50.66, bitrate: 256 kb/s\n",
            "  Stream #0:0: Audio: pcm_s16le ([1][0][0][0] / 0x0001), 16000 Hz, mono, s16, 256 kb/s\n",
            "Input #1, avi, from 'temp/result.avi':\n",
            "  Metadata:\n",
            "    software        : Lavf59.27.100\n",
            "  Duration: 00:00:50.53, start: 0.000000, bitrate: 639 kb/s\n",
            "  Stream #1:0: Video: mpeg4 (Simple Profile) (DIVX / 0x58564944), yuv420p, 202x360 [SAR 1:1 DAR 101:180], 632 kb/s, 30 fps, 30 tbr, 30 tbn, 30 tbc\n",
            "Stream mapping:\n",
            "  Stream #1:0 -> #0:0 (mpeg4 (native) -> h264 (libx264))\n",
            "  Stream #0:0 -> #0:1 (pcm_s16le (native) -> aac (native))\n",
            "Press [q] to stop, [?] for help\n",
            "\u001b[1;36m[libx264 @ 0x5c595d6d0900] \u001b[0m\u001b[0;33m-qscale is ignored, -crf is recommended.\n",
            "\u001b[0m\u001b[1;36m[libx264 @ 0x5c595d6d0900] \u001b[0musing SAR=1/1\n",
            "\u001b[1;36m[libx264 @ 0x5c595d6d0900] \u001b[0musing cpu capabilities: MMX2 SSE2Fast SSSE3 SSE4.2 AVX FMA3 BMI2 AVX2\n",
            "\u001b[1;36m[libx264 @ 0x5c595d6d0900] \u001b[0mprofile High, level 1.3, 4:2:0, 8-bit\n",
            "\u001b[1;36m[libx264 @ 0x5c595d6d0900] \u001b[0m264 - core 163 r3060 5db6aa6 - H.264/MPEG-4 AVC codec - Copyleft 2003-2021 - http://www.videolan.org/x264.html - options: cabac=1 ref=3 deblock=1:0:0 analyse=0x3:0x113 me=hex subme=7 psy=1 psy_rd=1.00:0.00 mixed_ref=1 me_range=16 chroma_me=1 trellis=1 8x8dct=1 cqm=0 deadzone=21,11 fast_pskip=1 chroma_qp_offset=-2 threads=3 lookahead_threads=1 sliced_threads=0 nr=0 decimate=1 interlaced=0 bluray_compat=0 constrained_intra=0 bframes=3 b_pyramid=2 b_adapt=1 b_bias=0 direct=1 weightb=1 open_gop=0 weightp=2 keyint=250 keyint_min=25 scenecut=40 intra_refresh=0 rc_lookahead=40 rc=crf mbtree=1 crf=23.0 qcomp=0.60 qpmin=0 qpmax=69 qpstep=4 ip_ratio=1.40 aq=1:1.00\n",
            "Output #0, mp4, to 'results/result_voice.mp4':\n",
            "  Metadata:\n",
            "    encoder         : Lavf58.76.100\n",
            "  Stream #0:0: Video: h264 (avc1 / 0x31637661), yuv420p(progressive), 202x360 [SAR 1:1 DAR 101:180], q=2-31, 30 fps, 15360 tbn\n",
            "    Metadata:\n",
            "      encoder         : Lavc58.134.100 libx264\n",
            "    Side data:\n",
            "      cpb: bitrate max/min/avg: 0/0/0 buffer size: 0 vbv_delay: N/A\n",
            "  Stream #0:1: Audio: aac (LC) (mp4a / 0x6134706D), 16000 Hz, mono, fltp, 69 kb/s\n",
            "    Metadata:\n",
            "      encoder         : Lavc58.134.100 aac\n",
            "frame= 1516 fps=202 q=-1.0 Lsize=    1870kB time=00:00:50.62 bitrate= 302.5kbits/s speed=6.74x    \n",
            "video:1411kB audio:431kB subtitle:0kB other streams:0kB global headers:0kB muxing overhead: 1.465252%\n",
            "\u001b[1;36m[libx264 @ 0x5c595d6d0900] \u001b[0mframe I:7     Avg QP:19.75  size:  6139\n",
            "\u001b[1;36m[libx264 @ 0x5c595d6d0900] \u001b[0mframe P:811   Avg QP:23.64  size:  1335\n",
            "\u001b[1;36m[libx264 @ 0x5c595d6d0900] \u001b[0mframe B:698   Avg QP:24.13  size:   457\n",
            "\u001b[1;36m[libx264 @ 0x5c595d6d0900] \u001b[0mconsecutive B-frames: 32.7% 14.2% 10.3% 42.7%\n",
            "\u001b[1;36m[libx264 @ 0x5c595d6d0900] \u001b[0mmb I  I16..4: 19.4% 69.3% 11.3%\n",
            "\u001b[1;36m[libx264 @ 0x5c595d6d0900] \u001b[0mmb P  I16..4:  0.7%  6.1%  0.5%  P16..4: 36.8% 14.7%  7.3%  0.0%  0.0%    skip:33.9%\n",
            "\u001b[1;36m[libx264 @ 0x5c595d6d0900] \u001b[0mmb B  I16..4:  0.3%  1.7%  0.1%  B16..8: 42.2%  4.4%  0.9%  direct: 1.1%  skip:49.3%  L0:46.0% L1:48.9% BI: 5.1%\n",
            "\u001b[1;36m[libx264 @ 0x5c595d6d0900] \u001b[0m8x8 transform intra:80.9% inter:76.9%\n",
            "\u001b[1;36m[libx264 @ 0x5c595d6d0900] \u001b[0mcoded y,uvDC,uvAC intra: 68.2% 65.2% 16.2% inter: 14.3% 10.7% 0.1%\n",
            "\u001b[1;36m[libx264 @ 0x5c595d6d0900] \u001b[0mi16 v,h,dc,p: 29% 28% 20% 23%\n",
            "\u001b[1;36m[libx264 @ 0x5c595d6d0900] \u001b[0mi8 v,h,dc,ddl,ddr,vr,hd,vl,hu: 20% 28% 22%  5%  4%  4%  5%  5%  7%\n",
            "\u001b[1;36m[libx264 @ 0x5c595d6d0900] \u001b[0mi4 v,h,dc,ddl,ddr,vr,hd,vl,hu: 25% 23% 11%  6%  7%  7%  8%  6%  6%\n",
            "\u001b[1;36m[libx264 @ 0x5c595d6d0900] \u001b[0mi8c dc,h,v,p: 49% 23% 19%  9%\n",
            "\u001b[1;36m[libx264 @ 0x5c595d6d0900] \u001b[0mWeighted P-Frames: Y:0.1% UV:0.0%\n",
            "\u001b[1;36m[libx264 @ 0x5c595d6d0900] \u001b[0mref P L0: 66.8% 17.5% 11.4%  4.2%  0.0%\n",
            "\u001b[1;36m[libx264 @ 0x5c595d6d0900] \u001b[0mref B L0: 88.5%  9.2%  2.3%\n",
            "\u001b[1;36m[libx264 @ 0x5c595d6d0900] \u001b[0mref B L1: 97.5%  2.5%\n",
            "\u001b[1;36m[libx264 @ 0x5c595d6d0900] \u001b[0mkb/s:228.65\n",
            "\u001b[1;36m[aac @ 0x5c595d6f1780] \u001b[0mQavg: 149.707\n"
          ]
        }
      ],
      "source": [
        "!cd Wav2Lip && python inference.py --checkpoint_path checkpoints/wav2lip_gan.pth --face \"../sample_data/test.mp4\" --audio \"../sample_data/test.wav\""
      ]
    },
    {
      "cell_type": "code",
      "execution_count": null,
      "metadata": {
        "id": "uNOAZvkszEOw"
      },
      "outputs": [],
      "source": [
        "# use the \"files\" button on the left to download the result in the Wav2Lip/results/ folder."
      ]
    },
    {
      "cell_type": "markdown",
      "metadata": {
        "id": "d7zgfrQqbKom"
      },
      "source": [
        "## **Variations to try**\n"
      ]
    },
    {
      "cell_type": "markdown",
      "metadata": {
        "id": "0f9A9VDVbZAG"
      },
      "source": [
        "1.   Use more padding to include the chin region"
      ]
    },
    {
      "cell_type": "code",
      "execution_count": null,
      "metadata": {
        "colab": {
          "base_uri": "https://localhost:8080/"
        },
        "id": "45XW4SZAzIz5",
        "outputId": "1d9437dc-aab7-45ca-9ea1-ffc22384b305"
      },
      "outputs": [
        {
          "name": "stdout",
          "output_type": "stream",
          "text": [
            "Using cuda for inference.\n",
            "Reading video frames...\n",
            "Number of frames available for inference: 1255\n",
            "/usr/local/lib/python3.10/dist-packages/librosa/core/audio.py:165: UserWarning: PySoundFile failed. Trying audioread instead.\n",
            "  warnings.warn(\"PySoundFile failed. Trying audioread instead.\")\n",
            "Traceback (most recent call last):\n",
            "  File \"/usr/local/lib/python3.10/dist-packages/librosa/core/audio.py\", line 149, in load\n",
            "    with sf.SoundFile(path) as sf_desc:\n",
            "  File \"/usr/local/lib/python3.10/dist-packages/soundfile.py\", line 658, in __init__\n",
            "    self._file = self._open(file, mode_int, closefd)\n",
            "  File \"/usr/local/lib/python3.10/dist-packages/soundfile.py\", line 1216, in _open\n",
            "    raise LibsndfileError(err, prefix=\"Error opening {0!r}: \".format(self.name))\n",
            "soundfile.LibsndfileError: Error opening '../sample_data/sdfnsdkgnjksdgv.wav': System error.\n",
            "\n",
            "During handling of the above exception, another exception occurred:\n",
            "\n",
            "Traceback (most recent call last):\n",
            "  File \"/content/Wav2Lip/inference.py\", line 280, in <module>\n",
            "    main()\n",
            "  File \"/content/Wav2Lip/inference.py\", line 224, in main\n",
            "    wav = audio.load_wav(args.audio, 16000)\n",
            "  File \"/content/Wav2Lip/audio.py\", line 10, in load_wav\n",
            "    return librosa.core.load(path, sr=sr)[0]\n",
            "  File \"/usr/local/lib/python3.10/dist-packages/librosa/core/audio.py\", line 166, in load\n",
            "    y, sr_native = __audioread_load(path, offset, duration, dtype)\n",
            "  File \"/usr/local/lib/python3.10/dist-packages/librosa/core/audio.py\", line 190, in __audioread_load\n",
            "    with audioread.audio_open(path) as input_file:\n",
            "  File \"/usr/local/lib/python3.10/dist-packages/audioread/__init__.py\", line 127, in audio_open\n",
            "    return BackendClass(path)\n",
            "  File \"/usr/local/lib/python3.10/dist-packages/audioread/rawread.py\", line 59, in __init__\n",
            "    self._fh = open(filename, 'rb')\n",
            "FileNotFoundError: [Errno 2] No such file or directory: '../sample_data/sdfnsdkgnjksdgv.wav'\n"
          ]
        }
      ],
      "source": [
        "!cd Wav2Lip && python inference.py --checkpoint_path checkpoints/wav2lip_gan.pth --face \"../sample_data/test.mp4\" --audio \"../sample_data/sdfnsdkgnjksdgv.wav\" --pads 0 20 0 0"
      ]
    },
    {
      "cell_type": "markdown",
      "metadata": {
        "id": "uo-WnsxfbwTG"
      },
      "source": [
        "2.   Use resize_factor to reduce the video resolution, as there is a change you might get better results for lower resolution videos. Why? Because the model was trained on low resolution faces."
      ]
    },
    {
      "cell_type": "code",
      "execution_count": null,
      "metadata": {
        "colab": {
          "base_uri": "https://localhost:8080/"
        },
        "id": "xw0xFtZ2bsx8",
        "outputId": "ae14e3a0-2511-435c-e397-884786b2abcf"
      },
      "outputs": [
        {
          "name": "stdout",
          "output_type": "stream",
          "text": [
            "Using cuda for inference.\n",
            "Traceback (most recent call last):\n",
            "  File \"/content/Wav2Lip/inference.py\", line 280, in <module>\n",
            "    main()\n",
            "  File \"/content/Wav2Lip/inference.py\", line 183, in main\n",
            "    raise ValueError('--face argument must be a valid path to video/image file')\n",
            "ValueError: --face argument must be a valid path to video/image file\n"
          ]
        }
      ],
      "source": [
        "!cd Wav2Lip && python inference.py --checkpoint_path checkpoints/wav2lip_gan.pth --face \"../sample_data/input_vid.mp4\" --audio \"../sample_data/input_audio.wav\" --resize_factor 2"
      ]
    }
  ],
  "metadata": {
    "accelerator": "GPU",
    "colab": {
      "provenance": [],
      "include_colab_link": true
    },
    "kernelspec": {
      "display_name": "Python 3",
      "name": "python3"
    }
  },
  "nbformat": 4,
  "nbformat_minor": 0
}